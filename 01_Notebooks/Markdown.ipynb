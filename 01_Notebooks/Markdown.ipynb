{
 "cells": [
  {
   "cell_type": "markdown",
   "metadata": {},
   "source": [
    "# Markdown: Light-weight Markup Language\n",
    "* [Daring Fireball](https://daringfireball.net/)\n",
    "* [Cheat sheet](https://github.com/adam-p/markdown-here/wiki/Markdown-Cheatsheet)\n",
    "* [Github Mastering Markdown](https://guides.github.com/features/mastering-markdown/)\n"
   ]
  },
  {
   "cell_type": "markdown",
   "metadata": {},
   "source": [
    "# Headers:"
   ]
  },
  {
   "cell_type": "raw",
   "metadata": {},
   "source": [
    "# This is a <h1> tag\n",
    "\n",
    "## This is a <h2> tag\n",
    "\n",
    "### This is a <h3> tag\n",
    "\n",
    "#### This is a <h4> tag\n",
    "\n",
    "##### This is a <h5> tag\n",
    "\n",
    "###### This is a <h6> tag\n"
   ]
  },
  {
   "cell_type": "markdown",
   "metadata": {},
   "source": [
    "Unordered List:\n",
    "- File \n",
    "    - Rename\n",
    "    - Save and Checkpoint: 'CTRL + S'\n",
    "    - Print Preview\n",
    "    - New Notebook\n",
    "- Cell\n",
    "    - Run All\n",
    "- Help\n",
    "    - Python\n",
    "    - NumPy\n",
    "    - SciPy\n"
   ]
  },
  {
   "cell_type": "markdown",
   "metadata": {},
   "source": [
    "# Ordered List"
   ]
  },
  {
   "cell_type": "markdown",
   "metadata": {},
   "source": [
    "1. Alpha\n",
    "2. Bravo\n",
    "    1. Red\n",
    "        1. Apple\n",
    "        2. Crayon\n",
    "    2. Green\n",
    "    3. Blue\n",
    "3. Charlie"
   ]
  },
  {
   "cell_type": "markdown",
   "metadata": {},
   "source": [
    "Unordered List:\n",
    "- File \n",
    "    - Rename\n",
    "    - Save and Checkpoint: 'CTRL + S'\n",
    "    - Print Preview\n",
    "    - New Notebook\n",
    "- Cell\n",
    "    - Run All\n",
    "- Help\n",
    "    - Python\n",
    "    - NumPy\n",
    "    - SciPy\n"
   ]
  },
  {
   "cell_type": "markdown",
   "metadata": {},
   "source": [
    "# Block Quotes:\n",
    "\n",
    "Benjamin Franklin said:\n",
    "> Early to bed and early to rise, makes a man healthy, wealthy and wise.\n"
   ]
  },
  {
   "cell_type": "markdown",
   "metadata": {},
   "source": [
    "# Links:"
   ]
  },
  {
   "cell_type": "raw",
   "metadata": {},
   "source": [
    "* [Daring Fireball](https://daringfireball.net/)\n",
    "* [Cheat sheet](https://github.com/adam-p/markdown-here/wiki/Markdown-Cheatsheet)\n",
    "* [Github Mastering Markdown](https://guides.github.com/features/mastering-markdown/)"
   ]
  },
  {
   "cell_type": "markdown",
   "metadata": {},
   "source": [
    "# Emphasis\n"
   ]
  },
  {
   "cell_type": "raw",
   "metadata": {},
   "source": [
    "*This text will be italic*\n",
    "_This will also be italic_\n",
    "**This text will be bold**\n",
    "__This will also be bold__"
   ]
  },
  {
   "cell_type": "markdown",
   "metadata": {},
   "source": [
    "*This text will be italic*\n",
    "\n",
    "_This will also be italic_\n",
    "\n",
    "**This text will be bold**\n",
    "\n",
    "__This will also be bold__"
   ]
  },
  {
   "cell_type": "code",
   "execution_count": null,
   "metadata": {},
   "outputs": [],
   "source": []
  }
 ],
 "metadata": {
  "kernelspec": {
   "display_name": "Python 3",
   "language": "python",
   "name": "python3"
  },
  "language_info": {
   "codemirror_mode": {
    "name": "ipython",
    "version": 3
   },
   "file_extension": ".py",
   "mimetype": "text/x-python",
   "name": "python",
   "nbconvert_exporter": "python",
   "pygments_lexer": "ipython3",
   "version": "3.7.2"
  }
 },
 "nbformat": 4,
 "nbformat_minor": 2
}
