{
 "cells": [
  {
   "cell_type": "markdown",
   "metadata": {},
   "source": [
    "# Notebook basics\n",
    "More information avaible at: [Basics]()"
   ]
  },
  {
   "cell_type": "markdown",
   "metadata": {},
   "source": [
    "# Dashboard\n",
    "* \"Home Page\" for the notebook\n",
    "    * Listing of avaible notebook\n",
    "    * starting point to create new notebooks\n",
    "* Location for controlling notebooks\n",
    "    * Check box selection\n",
    "        * Stop running notebooks\n",
    "            * See \"Running\" tab\n",
    "        * Delete notebooks\n",
    "* Refresh\n",
    "    * If notebooks area added \"externally\""
   ]
  },
  {
   "cell_type": "markdown",
   "metadata": {},
   "source": [
    "# Notebook User Interface\n",
    "* Menu Bar\n",
    "* Tool Bar\n",
    "* Notebook: area that contains cells"
   ]
  },
  {
   "cell_type": "markdown",
   "metadata": {},
   "source": [
    "# Modal Editor\n",
    "* Command Mode\n",
    "    * Blue cell border\n",
    "    * Enter command mode via 'ESC' key\n",
    "* Edit Mode\n",
    "    * Green cell border\n",
    "    * Cell act like a text editor\n",
    "    * Enter edit mode via 'ENTER' key\n",
    "* Excecute a cell\n",
    "    * 'SHIFT + ENTER' key combination"
   ]
  },
  {
   "cell_type": "markdown",
   "metadata": {},
   "source": [
    "# Keyboard Navigation\n",
    "*Command palette took icon\n",
    "    * has search capability\n",
    "## Common Navigation\n",
    "* Save notebook 'CTRL + S'\n",
    "* Create a cell above current 'ESC + A'\n",
    "* Create a cell below current 'ESC + B'\n",
    "* Delete current cell: 'ESC + D + D'\n",
    "* Cell editing:\n",
    "    * copy: 'CTRL + C'\n",
    "    * cut:  'CTRL + X'\n",
    "    * paste:'CTRL + V'\n",
    "    * undo: 'CTRL + Z'"
   ]
  },
  {
   "cell_type": "markdown",
   "metadata": {},
   "source": [
    "# Menu Bar\n",
    "* File\n",
    "    * Rename\n",
    "    * Save and checkpoint: 'CTRL + S'\n",
    "    * Print preview\n",
    "    * New Notebook\n",
    "* Cell\n",
    "    * Run All\n",
    "* Help\n",
    "    * Python\n",
    "    * NumPy\n",
    "    * SciPy"
   ]
  },
  {
   "cell_type": "code",
   "execution_count": null,
   "metadata": {},
   "outputs": [],
   "source": []
  }
 ],
 "metadata": {
  "kernelspec": {
   "display_name": "Python 3",
   "language": "python",
   "name": "python3"
  },
  "language_info": {
   "codemirror_mode": {
    "name": "ipython",
    "version": 3
   },
   "file_extension": ".py",
   "mimetype": "text/x-python",
   "name": "python",
   "nbconvert_exporter": "python",
   "pygments_lexer": "ipython3",
   "version": "3.7.2"
  }
 },
 "nbformat": 4,
 "nbformat_minor": 2
}
